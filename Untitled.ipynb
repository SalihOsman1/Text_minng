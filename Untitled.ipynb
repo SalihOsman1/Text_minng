{
 "cells": [
  {
   "cell_type": "code",
   "execution_count": 1,
   "id": "62950ab2",
   "metadata": {},
   "outputs": [],
   "source": [
    "import os, sys\n",
    "import numpy as np\n",
    "import pandas as pd"
   ]
  },
  {
   "cell_type": "code",
   "execution_count": 3,
   "id": "59579e2c",
   "metadata": {},
   "outputs": [
    {
     "ename": "NameError",
     "evalue": "name 'freq' is not defined",
     "output_type": "error",
     "traceback": [
      "\u001b[0;31m---------------------------------------------------------------------------\u001b[0m",
      "\u001b[0;31mNameError\u001b[0m                                 Traceback (most recent call last)",
      "Cell \u001b[0;32mIn[3], line 1\u001b[0m\n\u001b[0;32m----> 1\u001b[0m \u001b[38;5;28mint\u001b[39m(\u001b[38;5;28msum\u001b[39m \u001b[38;5;241m=\u001b[39m \u001b[43mfreq\u001b[49m[\u001b[38;5;241m0\u001b[39m] \u001b[38;5;241m*\u001b[39m (freq[\u001b[38;5;241m0\u001b[39m] \u001b[38;5;241m-\u001b[39m \u001b[38;5;241m1\u001b[39m) \u001b[38;5;241m/\u001b[39m \u001b[38;5;241m2\u001b[39m); \n\u001b[1;32m      2\u001b[0m \u001b[38;5;28msum\u001b[39m \u001b[38;5;241m+\u001b[39m\u001b[38;5;241m=\u001b[39m freq[i] \u001b[38;5;241m*\u001b[39m freq[K \u001b[38;5;241m-\u001b[39m i]; \n\u001b[1;32m      3\u001b[0m \u001b[38;5;28;01mif\u001b[39;00m (K \u001b[38;5;241m%\u001b[39m \u001b[38;5;241m2\u001b[39m \u001b[38;5;241m==\u001b[39m \u001b[38;5;241m0\u001b[39m):\n",
      "\u001b[0;31mNameError\u001b[0m: name 'freq' is not defined"
     ]
    }
   ],
   "source": [
    "int(sum = freq[0] * (freq[0] - 1) / 2); \n",
    "sum += freq[i] * freq[K - i]; \n",
    "if (K % 2 == 0):\n",
    "    sum += (freq[K / 2] * (freq[K / 2] - 1) / 2); "
   ]
  },
  {
   "cell_type": "code",
   "execution_count": 7,
   "id": "243e58b6",
   "metadata": {},
   "outputs": [
    {
     "data": {
      "text/plain": [
       "Counter({'c': 4, 'a': 2, 'd': 2, 'b': 1})"
      ]
     },
     "execution_count": 7,
     "metadata": {},
     "output_type": "execute_result"
    }
   ],
   "source": [
    "from collections import Counter\n",
    "mylist = [\"a\", \"a\", \"b\", \"c\", \"c\", \"c\", \"c\", \"d\", \"d\"]\n",
    "mylist.count(\"c\")\n",
    "Counter(mylist)"
   ]
  },
  {
   "cell_type": "code",
   "execution_count": 43,
   "id": "d2cc71d0",
   "metadata": {},
   "outputs": [
    {
     "name": "stdout",
     "output_type": "stream",
     "text": [
      "non-divisible\n",
      "non-divisible\n",
      "divsiible\n",
      "non-divisible\n",
      "non-divisible\n"
     ]
    }
   ],
   "source": [
    "list = [1, 2, 3, 4, 5] \n",
    "k=3\n",
    "for i in list:\n",
    "    if i % k ==0:\n",
    "        print('divsiible')\n",
    "    else:\n",
    "        print(\"non-divisible\")\n",
    "    \n",
    "# for i in :\n",
    "#     print(a[i]/k== 0)"
   ]
  },
  {
   "cell_type": "code",
   "execution_count": 2,
   "id": "70566327",
   "metadata": {},
   "outputs": [
    {
     "name": "stdout",
     "output_type": "stream",
     "text": [
      "Squared is non-divisible\n",
      "Squared is non-divisible\n",
      "Squared is divsiible\n",
      "Squared is non-divisible\n",
      "Squared is non-divisible\n"
     ]
    }
   ],
   "source": [
    "list = [1, 2, 3, 4, 5] \n",
    "k=3\n",
    "for i in list:\n",
    "    if i*2 % k == 0:\n",
    "        print('Squared is divsiible')\n",
    "    elif i*2 % k != 0:\n",
    "        print(\"Squared is non-divisible\")"
   ]
  },
  {
   "cell_type": "code",
   "execution_count": 91,
   "id": "273a206d",
   "metadata": {},
   "outputs": [
    {
     "name": "stdout",
     "output_type": "stream",
     "text": [
      "Ooops!\n",
      "Bravo!\n",
      "Ooops!\n",
      "Ooops!\n",
      "Ooops!\n",
      "Ooops!\n",
      "Ooops!\n",
      "Ooops!\n"
     ]
    }
   ],
   "source": [
    "list1 = 'Hello World Please let us all be Happy!' \n",
    "list2= list1.split()\n",
    "for i in list2[0:10]:\n",
    "    if i == \"World\":\n",
    "        print('Bravo!')\n",
    "    elif i != \"World\":\n",
    "        print(\"Ooops!\")"
   ]
  },
  {
   "cell_type": "code",
   "execution_count": 75,
   "id": "cff7e779",
   "metadata": {},
   "outputs": [
    {
     "name": "stdout",
     "output_type": "stream",
     "text": [
      "Hello World Please let us all be Happy!\n"
     ]
    }
   ],
   "source": [
    "list2 = \"Hello World Please let us all be Happy!\"\n",
    "for i in list2[0:1]:\n",
    "    #list2.str().split()\n",
    "    print(i)"
   ]
  },
  {
   "cell_type": "code",
   "execution_count": 1,
   "id": "f6d59612",
   "metadata": {},
   "outputs": [
    {
     "name": "stdout",
     "output_type": "stream",
     "text": [
      "['Hello', 'World']\n",
      "['Hello', 'World']\n",
      "['Hello', 'World']\n",
      "['Hello', 'World']\n",
      "['Hello', 'World']\n",
      "['Hello', 'World']\n",
      "['Hello', 'World']\n",
      "['Hello', 'World']\n",
      "Hello World Please let us all be Happy!\n"
     ]
    }
   ],
   "source": [
    "list1 = 'Hello World Please let us all be Happy!' \n",
    "list2= list1.split()\n",
    "for i in list2:\n",
    "    print(list2[0:2])\n",
    "list3=' '.join(list2)\n",
    "print(list3)"
   ]
  },
  {
   "cell_type": "code",
   "execution_count": 2,
   "id": "e805c8fa",
   "metadata": {},
   "outputs": [
    {
     "name": "stderr",
     "output_type": "stream",
     "text": [
      "2023-08-30 12:14:16.715685: I tensorflow/core/util/port.cc:110] oneDNN custom operations are on. You may see slightly different numerical results due to floating-point round-off errors from different computation orders. To turn them off, set the environment variable `TF_ENABLE_ONEDNN_OPTS=0`.\n",
      "2023-08-30 12:14:16.849452: I tensorflow/tsl/cuda/cudart_stub.cc:28] Could not find cuda drivers on your machine, GPU will not be used.\n",
      "2023-08-30 12:14:17.264562: I tensorflow/tsl/cuda/cudart_stub.cc:28] Could not find cuda drivers on your machine, GPU will not be used.\n",
      "2023-08-30 12:14:17.266635: I tensorflow/core/platform/cpu_feature_guard.cc:182] This TensorFlow binary is optimized to use available CPU instructions in performance-critical operations.\n",
      "To enable the following instructions: AVX2 AVX_VNNI FMA, in other operations, rebuild TensorFlow with the appropriate compiler flags.\n",
      "2023-08-30 12:14:19.388167: W tensorflow/compiler/tf2tensorrt/utils/py_utils.cc:38] TF-TRT Warning: Could not find TensorRT\n"
     ]
    }
   ],
   "source": [
    "{\n",
    "          \"image_data_format\": \"channels_last\",\n",
    "          \"epsilon\": 1e-07,\n",
    "          \"floatx\": \"float32\",\n",
    "          \"backend\": \"tensorflow\"\n",
    "}\n",
    "import keras"
   ]
  },
  {
   "cell_type": "code",
   "execution_count": null,
   "id": "8bdc1494",
   "metadata": {},
   "outputs": [],
   "source": []
  }
 ],
 "metadata": {
  "kernelspec": {
   "display_name": "Python 3 (ipykernel)",
   "language": "python",
   "name": "python3"
  },
  "language_info": {
   "codemirror_mode": {
    "name": "ipython",
    "version": 3
   },
   "file_extension": ".py",
   "mimetype": "text/x-python",
   "name": "python",
   "nbconvert_exporter": "python",
   "pygments_lexer": "ipython3",
   "version": "3.10.12"
  }
 },
 "nbformat": 4,
 "nbformat_minor": 5
}
